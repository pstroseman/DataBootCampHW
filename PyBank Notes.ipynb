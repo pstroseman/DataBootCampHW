{
 "cells": [
  {
   "cell_type": "markdown",
   "metadata": {},
   "source": [
    "### PyBank"
   ]
  },
  {
   "cell_type": "markdown",
   "metadata": {},
   "source": [
    "#### Tasks\n",
    "* Examine the budget_data.csv file.  Writedown the file location.\n",
    "* OPEN the budget_data.csv\n",
    "* CALCULATE the total number of months included in the dataset.\n",
    "* CALCULATE the total net amount of \"Profit/Losses\" over the entire period.\n",
    "* CALCULATE the average change in \"Profit/Losses\" between months over the entire period.\n",
    "* CALCULATE the greatest increse in profits (date and amount) over the entire period.\n",
    "* CALCULATE the greatest decreases in losses (date and amount) over the entire period\n",
    "\n",
    "#### Note\n",
    "* Final scripts should print the analysis to the terminial as well as export a text files with the results."
   ]
  },
  {
   "cell_type": "code",
   "execution_count": 1,
   "metadata": {},
   "outputs": [
    {
     "name": "stdout",
     "output_type": "stream",
     "text": [
      "Current work directory: C:\\Users\\paul\\OneDrive\\UCB Extention Boot Camp\\Week_3_Python\\03_Homework_3\\Solution\\PyBank\n",
      "Current work directory (full path): C:\\Users\\paul\\OneDrive\\UCB Extention Boot Camp\\Week_3_Python\\03_Homework_3\\Solution\\PyBank\n",
      "\n"
     ]
    }
   ],
   "source": [
    "#Open the Budget_Data.CSV File\n",
    "\n",
    "import csv\n",
    "import os\n",
    "\n",
    "current_work_directory = os.getcwd()    \n",
    "\n",
    "# Return a string representing the current working directory.\n",
    "print('Current work directory: {}'.format(current_work_directory))\n",
    "\n",
    "# Make sure it's an absolute path.\n",
    "abs_work_directory = os.path.abspath(current_work_directory)\n",
    "print('Current work directory (full path): {}'.format(abs_work_directory))\n",
    "print()\n",
    "\n",
    "filename = 'budget_data.csv'\n",
    "\n",
    "# Check whether file exists.\n",
    "\n",
    "if not os.path.isfile(filename):\n",
    "\n",
    "    # Stop with leaving a note to the user.\n",
    "    print('It seems file \"{}\" does not exists in directory: \"{}\"'.format(filename, current_work_directory))"
   ]
  },
  {
   "cell_type": "code",
   "execution_count": 2,
   "metadata": {},
   "outputs": [],
   "source": [
    "#Import libraries\n",
    "\n",
    "import sys\n",
    "import os\n",
    "\n",
    "#Files to load and output\n",
    "file_to_load = os.path.join(\"..\", \"PyBank\", \"budget_data.csv\")\n",
    "file_to_output = os.path.join(\"..\", \"PyBank\", \"budget_analysis.txt\")"
   ]
  },
  {
   "cell_type": "code",
   "execution_count": 3,
   "metadata": {},
   "outputs": [],
   "source": [
    "# Define variables (Fiancial Parameters)\n",
    "\n",
    "total_months = 0\n",
    "month_of_change = []\n",
    "net_change_list = []\n",
    "greatest_increase = ['', 0]\n",
    "greatest_decrease = ['', 99999999999999999999999]\n",
    "total_net = 0"
   ]
  },
  {
   "cell_type": "code",
   "execution_count": 4,
   "metadata": {},
   "outputs": [],
   "source": [
    "# Read the csv and convert it into a list of dictionaries\n",
    "# 'file_to_load' is the physical file name\n",
    "#'fiancial_data' is the logical file name within the program.\n",
    "\n",
    "with open (file_to_load) as financial_data:\n",
    "    reader = csv.reader(financial_data)\n",
    "    \n",
    "    # Read the header row\n",
    "    header = next(reader)\n",
    "    \n",
    "    # Extract first row to avoid appending to net_change_list\n",
    "    first_row = next(reader)\n",
    "    total_months = total_months + 1\n",
    "    total_net = total_net + int(first_row[1])\n",
    "    prev_net = int(first_row[1])\n",
    "    \n",
    "    for row in reader:\n",
    "    \n",
    "        #track the total\n",
    "        total_months = total_months + 1\n",
    "        total_net = total_net +int(row[1])\n",
    "        \n",
    "        #Track the net change\n",
    "        net_change = int(row[1]) - prev_net\n",
    "        prev_net = int(row[1])\n",
    "        net_change_list = net_change_list + [net_change]\n",
    "        month_of_change = month_of_change = [row[0]]\n",
    "        \n",
    "        #Calculate the greatest increase\n",
    "        if net_change > greatest_increase[1]:\n",
    "            greatest_increase[0] = row[0]\n",
    "            greatest_increase[1] = net_change\n",
    "            \n",
    "        #Calculate the greatest decrease\n",
    "        if net_change < greatest_decrease[1]:\n",
    "            greatest_decrease[0] = row[0]\n",
    "            greatest_decrease[1] = net_change\n",
    "            \n",
    "#Calculate the Average Net Change\n",
    "net_monthly_avg = sum(net_change_list) / len(net_change_list)\n"
   ]
  },
  {
   "cell_type": "code",
   "execution_count": 5,
   "metadata": {},
   "outputs": [
    {
     "name": "stdout",
     "output_type": "stream",
     "text": [
      "\n",
      "Financial Analysis\n",
      "-----------------------------------\n",
      "Total Months: 41\n",
      "Total: $18971412\n",
      "Average Change: $-6758.98\n",
      "Greatest Increase in Profits: Feb-16 ($1837235)\n",
      "Greatest Decrease in Profits: Aug-14 ($-1779747)\n",
      "\n"
     ]
    }
   ],
   "source": [
    "#Generate Output Summary\n",
    "\n",
    "output = (\n",
    "    f\"\\nFinancial Analysis\\n\"\n",
    "    f\"-----------------------------------\\n\"\n",
    "    f\"Total Months: {total_months}\\n\"\n",
    "    f\"Total: ${total_net}\\n\"\n",
    "    f\"Average Change: ${net_monthly_avg:.2f}\\n\"\n",
    "    f\"Greatest Increase in Profits: {greatest_increase[0]} (${greatest_increase[1]})\\n\"\n",
    "    f\"Greatest Decrease in Profits: {greatest_decrease[0]} (${greatest_decrease[1]})\\n\")\n",
    "    \n",
    "#Print the output (to terminal)\n",
    "\n",
    "print (output)"
   ]
  },
  {
   "cell_type": "code",
   "execution_count": 6,
   "metadata": {},
   "outputs": [],
   "source": [
    "#Export the results to the text file\n",
    "with open (file_to_output, \"w\") as txt_file:\n",
    "    txt_file.write(output)"
   ]
  }
 ],
 "metadata": {
  "kernelspec": {
   "display_name": "Python [conda env:Anaconda3]",
   "language": "python",
   "name": "conda-env-Anaconda3-py"
  },
  "language_info": {
   "codemirror_mode": {
    "name": "ipython",
    "version": 3
   },
   "file_extension": ".py",
   "mimetype": "text/x-python",
   "name": "python",
   "nbconvert_exporter": "python",
   "pygments_lexer": "ipython3",
   "version": "3.6.5"
  }
 },
 "nbformat": 4,
 "nbformat_minor": 2
}
