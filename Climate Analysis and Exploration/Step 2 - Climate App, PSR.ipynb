{
 "cells": [
  {
   "cell_type": "markdown",
   "metadata": {},
   "source": [
    "## Step 2 - Climate App"
   ]
  },
  {
   "cell_type": "code",
   "execution_count": 1,
   "metadata": {},
   "outputs": [],
   "source": [
    "# Import dependencies\n",
    "\n",
    "import numpy as np\n",
    "import pandas as pd\n",
    "import datetime as dt\n",
    "import sqlalchemy\n",
    "from sqlalchemy.ext.automap import automap_base\n",
    "from sqlalchemy.orm import Session\n",
    "from sqlalchemy import create_engine, func, desc\n",
    "from flask import Flask, jsonify\n"
   ]
  },
  {
   "cell_type": "markdown",
   "metadata": {},
   "source": [
    "#### Database Setup"
   ]
  },
  {
   "cell_type": "code",
   "execution_count": 2,
   "metadata": {},
   "outputs": [],
   "source": [
    "engine = create_engine('sqlite:///hawaii.sqlite', echo=False)\n",
    "\n",
    "# Declare a Base using `automap_base()`\n",
    "Base = automap_base()\n",
    "\n",
    "# Reflect Database into ORM classes\n",
    "Base.prepare(engine, reflect=True)\n",
    "\n",
    "# Save a reference to the measurenment table as 'Measurement'\n",
    "Measurement = Base.classes.measurement\n",
    "# Save a reference to the station table as 'Station'\n",
    "Station = Base.classes.station\n",
    "\n",
    "# Create our session (link) from Python to the DB\n",
    "session = Session(engine)"
   ]
  },
  {
   "cell_type": "markdown",
   "metadata": {},
   "source": [
    "#### Flask Setup"
   ]
  },
  {
   "cell_type": "code",
   "execution_count": 3,
   "metadata": {},
   "outputs": [],
   "source": [
    "app = Flask(__name__)"
   ]
  },
  {
   "cell_type": "markdown",
   "metadata": {},
   "source": [
    "#### Flask Routes"
   ]
  },
  {
   "cell_type": "code",
   "execution_count": 4,
   "metadata": {},
   "outputs": [],
   "source": [
    "@app.route(\"/\")\n",
    "def welcome():\n",
    "    \"\"\"List all available api routes.\"\"\"\n",
    "    return (\n",
    "        \"Hawaii Precipitation and Weather Data<br/><br/>\"\n",
    "        \"Pick from the available routes below:<br/><br/>\"\n",
    "        \"Precipiation from 2016-08-23 to 2017-08-23.<br/>\"\n",
    "        \"/api/v1.0/precipitation<br/><br/>\"\n",
    "        \"A list of all the weather stations in Hawaii.<br/>\"\n",
    "        \"/api/v1.0/stations<br/><br/>\"\n",
    "        \"The Temperature Observations (tobs) from 2016-08-23 to 2017-08-23.<br/>\"\n",
    "        \"/api/v1.0/tobs<br/><br/>\"\n",
    "        \"Type in a single date (i.e., 2015-01-01) to see the min, max and avg temperature since that date.<br/>\"\n",
    "        \"/api/v1.0/temp/<start><br/><br/>\"\n",
    "        \"Type in a date range (i.e., 2015-01-01/2015-01-10) to see the min, max and avg temperature for that range.<br/>\"\n",
    "        \"/api/v1.0/temp/<start>/<end><br/>\"\n",
    "    )\n",
    "\n",
    "begin_date = dt.date(2017, 8, 23) - dt.timedelta(days=365)"
   ]
  },
  {
   "cell_type": "code",
   "execution_count": 5,
   "metadata": {},
   "outputs": [],
   "source": [
    "@app.route(\"/api/v1.0/precipitation\")\n",
    "def precipitation():\n",
    "    \"\"\"Query for the dates and temperature observations from the last year.\n",
    "    Convert the query results to a Dictionary using date as the 'key 'and 'tobs' as the value.\"\"\"\n",
    "\n",
    "\n",
    "    # Retrieve the last 12 months of precipitation data\n",
    "    results = session.query(Measurement.date, Measurement.prcp).\\\n",
    "                        filter(Measurement.date > begin_date).\\\n",
    "                        order_by(Measurement.date).all()\n",
    "\n",
    "    # Create a dictionary from the row data and append to a list of for the precipitation data\n",
    "    precipitation_data = []\n",
    "    for prcp_data in results:\n",
    "        prcp_data_dict = {}\n",
    "        prcp_data_dict[\"Date\"] = prcp_data.date\n",
    "        prcp_data_dict[\"Precipitation\"] = prcp_data.prcp\n",
    "        precipitation_data.append(prcp_data_dict)\n",
    "        \n",
    "\n",
    "    return jsonify(precipitation_data)"
   ]
  },
  {
   "cell_type": "code",
   "execution_count": 6,
   "metadata": {},
   "outputs": [],
   "source": [
    "@app.route(\"/api/v1.0/stations\")\n",
    "def stations():\n",
    "    \"\"\"Return a json list of stations from the dataset.\"\"\"\n",
    "    # Query all the stations\n",
    "    results = session.query(Station).all()\n",
    "\n",
    "    # Create a dictionary from the row data and append to a list of all_stations.\n",
    "    all_stations = []\n",
    "    for stations in results:\n",
    "        stations_dict = {}\n",
    "        stations_dict[\"Station\"] = stations.station\n",
    "        stations_dict[\"Station Name\"] = stations.name\n",
    "        stations_dict[\"Latitude\"] = stations.latitude\n",
    "        stations_dict[\"Longitude\"] = stations.longitude\n",
    "        stations_dict[\"Elevation\"] = stations.elevation\n",
    "        all_stations.append(stations_dict)\n",
    "    \n",
    "    return jsonify(all_stations)"
   ]
  },
  {
   "cell_type": "code",
   "execution_count": 7,
   "metadata": {},
   "outputs": [],
   "source": [
    "@app.route(\"/api/v1.0/tobs\")\n",
    "def tobs():\n",
    "    \"\"\"Return a json list of Temperature Observations (tobs) for the previous year\"\"\"\n",
    "    # Query all the stations and for the given date. \n",
    "    results = session.query(Measurement.station, Measurement.date, Measurement.tobs).\\\n",
    "                    group_by(Measurement.date).\\\n",
    "                    filter(Measurement.date > begin_date).\\\n",
    "                    order_by(Measurement.station).all()\n",
    "                    \n",
    "    # Create a dictionary from the row data and append to a list of for the temperature data.\n",
    "    temp_data = []\n",
    "    for tobs_data in results:\n",
    "        tobs_data_dict = {}\n",
    "        tobs_data_dict[\"Station\"] = tobs_data.station\n",
    "        tobs_data_dict[\"Date\"] = tobs_data.date\n",
    "        tobs_data_dict[\"Temperature\"] = tobs_data.tobs\n",
    "        temp_data.append(tobs_data_dict)\n",
    "    \n",
    "    return jsonify(temp_data)"
   ]
  },
  {
   "cell_type": "code",
   "execution_count": 8,
   "metadata": {},
   "outputs": [],
   "source": [
    "@app.route(\"/api/v1.0/temp/<start>\")\n",
    "def start_stats(start=None):\n",
    "    \"\"\"Return a json list of the minimum temperature, the average temperature, and the\n",
    "    max temperature for a given start date\"\"\"\n",
    "    # Query all the stations and for the given date. \n",
    "    results = session.query(func.min(Measurement.tobs), func.max(Measurement.tobs),func.avg(Measurement.tobs)).\\\n",
    "    filter(Measurement.date >= start).all()\n",
    "\n",
    "    # Create a dictionary from the row data and append to a list of for the temperature data.\n",
    "    temp_stats = []\n",
    "    \n",
    "    for Tmin, Tmax, Tavg in results:\n",
    "        temp_stats_dict = {}\n",
    "        temp_stats_dict[\"Minimum Temp\"] = Tmin\n",
    "        temp_stats_dict[\"Maximum Temp\"] = Tmax\n",
    "        temp_stats_dict[\"Average Temp\"] = Tavg\n",
    "        temp_stats.append(temp_stats_dict)\n",
    "    \n",
    "    return jsonify(temp_stats)"
   ]
  },
  {
   "cell_type": "code",
   "execution_count": 9,
   "metadata": {},
   "outputs": [],
   "source": [
    "@app.route(\"/api/v1.0/temp/<start>/<end>\")\n",
    "def calc_stats(start=None, end=None):\n",
    "    \"\"\"Return a json list of the minimum temperature, the average temperature, \n",
    "    and the max temperature for a given start-end date range.\"\"\"\n",
    "    \n",
    "    # Query all the stations and for the given range of dates. \n",
    "    results = session.query(func.min(Measurement.tobs), func.max(Measurement.tobs),func.avg(Measurement.tobs)).\\\n",
    "    filter(Measurement.date >= start).filter(Measurement.date <= end).all()\n",
    "\n",
    "    # Create a dictionary from the row data and append to a list of for the temperature data.\n",
    "    begin_end_stats = []\n",
    "    \n",
    "    for Tmin, Tmax, Tavg in results:\n",
    "        begin_end_stats_dict = {}\n",
    "        begin_end_stats_dict[\"Minimum Temp\"] = Tmin\n",
    "        begin_end_stats_dict[\"Maximum Temp\"] = Tmax\n",
    "        begin_end_stats_dict[\"Average Temp\"] = Tavg\n",
    "        begin_end_stats.append(begin_end_stats_dict)\n",
    "    \n",
    "    return jsonify(begin_end_stats)"
   ]
  }
 ],
 "metadata": {
  "kernelspec": {
   "display_name": "Python [conda env:Anaconda3]",
   "language": "python",
   "name": "conda-env-Anaconda3-py"
  },
  "language_info": {
   "codemirror_mode": {
    "name": "ipython",
    "version": 3
   },
   "file_extension": ".py",
   "mimetype": "text/x-python",
   "name": "python",
   "nbconvert_exporter": "python",
   "pygments_lexer": "ipython3",
   "version": "3.6.5"
  }
 },
 "nbformat": 4,
 "nbformat_minor": 2
}
